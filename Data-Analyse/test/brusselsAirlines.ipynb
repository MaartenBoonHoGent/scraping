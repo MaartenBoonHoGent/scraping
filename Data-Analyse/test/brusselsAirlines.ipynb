{
 "cells": [
  {
   "cell_type": "code",
   "execution_count": 1,
   "metadata": {},
   "outputs": [],
   "source": [
    "# Importing the necessary packages\n",
    "import numpy as np                                  # \"Scientific computing\"\n",
    "import scipy.stats as stats                         # Statistical tests\n",
    "\n",
    "import pandas as pd                                 # Data Frame\n",
    "from pandas.api.types import CategoricalDtype\n",
    "\n",
    "import matplotlib.pyplot as plt                     # Basic visualisation\n",
    "from statsmodels.graphics.mosaicplot import mosaic  # Mosaic diagram\n",
    "import seaborn as sns                               # Advanced data visualisation\n",
    "import altair as alt"
   ]
  },
  {
   "attachments": {},
   "cell_type": "markdown",
   "metadata": {},
   "source": [
    "* BrusslesAirlines\tBrussel\talicante\tAantal vluchten\tmei\n",
    "* BrusslesAirlines\tBrussel\tIbiza\tGemiddelde prijs\tJuni\n",
    "* BrusslesAirlines\tBrussel\tTernerife\taantal vluchten\t13 mei\n",
    "* BrusslesAirlines\tBrussel\tRhodos\tAantal vluchten\t06/06 tot en met 07/07\n",
    "* BrusslesAirlines\tBrussel\tBrindisi\tvertrekuur\tmei\n",
    "* BrusslesAirlines\tBrussel\tNapels\tAankomst uur juni\n",
    "* BrusslesAirlines\tBrussel\tPalermo\tAantal tussenstops\tJuli\n",
    "* BrusslesAirlines\tBrussel\tFaro\tgemiddelde prijs\tApril\n",
    "* BrusslesAirlines\tBrussel\tAllicante   Aantal vluchten\tJuli\n",
    "* BrusslesAirlines\tBrussel\tIbiza\tVertrek uur Juni\n",
    "* BrusslesAirlines\tBrussel\tMalaga\tAankomst uur\tJuli\n",
    "* BrusslesAirlines\tBrussel\tTenerife\tAantal tussenstops\tApril"
   ]
  },
  {
   "cell_type": "code",
   "execution_count": 4,
   "metadata": {},
   "outputs": [
    {
     "data": {
      "text/html": [
       "<div>\n",
       "<style scoped>\n",
       "    .dataframe tbody tr th:only-of-type {\n",
       "        vertical-align: middle;\n",
       "    }\n",
       "\n",
       "    .dataframe tbody tr th {\n",
       "        vertical-align: top;\n",
       "    }\n",
       "\n",
       "    .dataframe thead th {\n",
       "        text-align: right;\n",
       "    }\n",
       "</style>\n",
       "<table border=\"1\" class=\"dataframe\">\n",
       "  <thead>\n",
       "    <tr style=\"text-align: right;\">\n",
       "      <th></th>\n",
       "      <th>datum_extract</th>\n",
       "      <th>datum_vlucht</th>\n",
       "      <th>start</th>\n",
       "      <th>stop</th>\n",
       "      <th>Vertrek uur</th>\n",
       "      <th>Aankomst uur</th>\n",
       "      <th>duur</th>\n",
       "      <th>aantalStops</th>\n",
       "      <th>prijs</th>\n",
       "      <th>stoelen</th>\n",
       "      <th>tussenstop Viegvelden</th>\n",
       "      <th>FlightNummers</th>\n",
       "      <th>Vliegtuigen</th>\n",
       "    </tr>\n",
       "  </thead>\n",
       "  <tbody>\n",
       "    <tr>\n",
       "      <th>0</th>\n",
       "      <td>2023-03-29</td>\n",
       "      <td>2023-01-05</td>\n",
       "      <td>Brussel</td>\n",
       "      <td>Palermo</td>\n",
       "      <td>06:55</td>\n",
       "      <td>11:05</td>\n",
       "      <td>4h 10m</td>\n",
       "      <td>1</td>\n",
       "      <td>154,58</td>\n",
       "      <td>-1</td>\n",
       "      <td>{'(PMO)', '(MUC)', '(BRU)'}</td>\n",
       "      <td>{'1914', '2023', '5629'}</td>\n",
       "      <td>{'A320', 'A319'}</td>\n",
       "    </tr>\n",
       "    <tr>\n",
       "      <th>1</th>\n",
       "      <td>2023-03-29</td>\n",
       "      <td>2023-01-05</td>\n",
       "      <td>Brussel</td>\n",
       "      <td>Palermo</td>\n",
       "      <td>20:45</td>\n",
       "      <td>11:05</td>\n",
       "      <td>14h 20m</td>\n",
       "      <td>1</td>\n",
       "      <td>261,67</td>\n",
       "      <td>-1</td>\n",
       "      <td>{'(PMO)', '(MUC)', '(BRU)'}</td>\n",
       "      <td>{'2023', '2291', '1914'}</td>\n",
       "      <td>{'A320'}</td>\n",
       "    </tr>\n",
       "    <tr>\n",
       "      <th>2</th>\n",
       "      <td>2023-03-29</td>\n",
       "      <td>2023-01-05</td>\n",
       "      <td>Brussel</td>\n",
       "      <td>Palermo</td>\n",
       "      <td>20:05</td>\n",
       "      <td>11:05</td>\n",
       "      <td>15h 00m</td>\n",
       "      <td>2</td>\n",
       "      <td>314,32</td>\n",
       "      <td>1</td>\n",
       "      <td>{'(PMO)', '(FRA)', '(MUC)', '(BRU)'}</td>\n",
       "      <td>{'2023', '1019', '1914'}</td>\n",
       "      <td>{'A320', 'A321'}</td>\n",
       "    </tr>\n",
       "    <tr>\n",
       "      <th>3</th>\n",
       "      <td>2023-03-29</td>\n",
       "      <td>2023-01-05</td>\n",
       "      <td>Brussel</td>\n",
       "      <td>Palermo</td>\n",
       "      <td>19:15</td>\n",
       "      <td>11:05</td>\n",
       "      <td>15h 50m</td>\n",
       "      <td>2</td>\n",
       "      <td>315,20</td>\n",
       "      <td>-1</td>\n",
       "      <td>{'(PMO)', '(FRA)', '(MUC)', '(BRU)'}</td>\n",
       "      <td>{'2023', '5589', '1914'}</td>\n",
       "      <td>{'A321', 'A319', 'A320'}</td>\n",
       "    </tr>\n",
       "    <tr>\n",
       "      <th>4</th>\n",
       "      <td>2023-03-29</td>\n",
       "      <td>2023-01-05</td>\n",
       "      <td>Brussel</td>\n",
       "      <td>Palermo</td>\n",
       "      <td>06:55</td>\n",
       "      <td>11:05</td>\n",
       "      <td>4h 10m</td>\n",
       "      <td>1</td>\n",
       "      <td>154,58</td>\n",
       "      <td>-1</td>\n",
       "      <td>{'(PMO)', '(BRU)', '(MUC)'}</td>\n",
       "      <td>{'5629', '1914', '2023'}</td>\n",
       "      <td>{'A320', 'A319'}</td>\n",
       "    </tr>\n",
       "  </tbody>\n",
       "</table>\n",
       "</div>"
      ],
      "text/plain": [
       "  datum_extract datum_vlucht    start     stop Vertrek uur Aankomst uur  \\\n",
       "0    2023-03-29   2023-01-05  Brussel  Palermo       06:55        11:05   \n",
       "1    2023-03-29   2023-01-05  Brussel  Palermo       20:45        11:05   \n",
       "2    2023-03-29   2023-01-05  Brussel  Palermo       20:05        11:05   \n",
       "3    2023-03-29   2023-01-05  Brussel  Palermo       19:15        11:05   \n",
       "4    2023-03-29   2023-01-05  Brussel  Palermo       06:55        11:05   \n",
       "\n",
       "      duur  aantalStops   prijs  stoelen  \\\n",
       "0   4h 10m            1  154,58       -1   \n",
       "1  14h 20m            1  261,67       -1   \n",
       "2  15h 00m            2  314,32        1   \n",
       "3  15h 50m            2  315,20       -1   \n",
       "4   4h 10m            1  154,58       -1   \n",
       "\n",
       "                  tussenstop Viegvelden             FlightNummers  \\\n",
       "0           {'(PMO)', '(MUC)', '(BRU)'}  {'1914', '2023', '5629'}   \n",
       "1           {'(PMO)', '(MUC)', '(BRU)'}  {'2023', '2291', '1914'}   \n",
       "2  {'(PMO)', '(FRA)', '(MUC)', '(BRU)'}  {'2023', '1019', '1914'}   \n",
       "3  {'(PMO)', '(FRA)', '(MUC)', '(BRU)'}  {'2023', '5589', '1914'}   \n",
       "4           {'(PMO)', '(BRU)', '(MUC)'}  {'5629', '1914', '2023'}   \n",
       "\n",
       "                Vliegtuigen  \n",
       "0          {'A320', 'A319'}  \n",
       "1                  {'A320'}  \n",
       "2          {'A320', 'A321'}  \n",
       "3  {'A321', 'A319', 'A320'}  \n",
       "4          {'A320', 'A319'}  "
      ]
     },
     "execution_count": 4,
     "metadata": {},
     "output_type": "execute_result"
    }
   ],
   "source": [
    "brusselsAir = pd.read_csv(\"../../brusselsAirlines.csv\")\n",
    "\n",
    "brusselsAir['datum_vlucht']=pd.to_datetime(brusselsAir['datum_vlucht'])\n",
    "\n",
    "brusselsAir.head()\n"
   ]
  },
  {
   "attachments": {},
   "cell_type": "markdown",
   "metadata": {},
   "source": [
    "# BRU\tBrussel\tAllicante\tAantal vluchten\tMei\n"
   ]
  },
  {
   "cell_type": "code",
   "execution_count": null,
   "metadata": {},
   "outputs": [],
   "source": [
    "count=brusselsAir.query('datum_vlucht >= \"2023-05-01\" and datum_vlucht <= \"2023-06-01\" and start == \"Brussel\" and stop == \"Allicante\"').count()\n",
    "count"
   ]
  },
  {
   "attachments": {},
   "cell_type": "markdown",
   "metadata": {},
   "source": [
    "# BrusslesAirlines\tBrussel\tIbiza\tGemiddelde prijs\tJuni"
   ]
  },
  {
   "cell_type": "code",
   "execution_count": null,
   "metadata": {},
   "outputs": [],
   "source": [
    "prijs =brusselsAir.query(\"(datum_vlucht >= '2023-06-01') and (datum_vlucht < '2023-07-01') and (start == 'Brussel') and (stop == 'Ibiza')\")['prijs'].sum()\n",
    "aantal=brusselsAir.query(\"(datum_vlucht >= '2023-06-01') and (datum_vlucht < '2023-07-01') and (start == 'Brussel') and (stop == 'Ibiza')\").count()\n",
    "print(prijs/aantal)"
   ]
  },
  {
   "attachments": {},
   "cell_type": "markdown",
   "metadata": {},
   "source": [
    "# BrusslesAirlines\tBrussel\tTenerife\taantal vluchten\t13 mei"
   ]
  },
  {
   "cell_type": "code",
   "execution_count": null,
   "metadata": {},
   "outputs": [],
   "source": [
    "vluchten =brusselsAir.query(\"(datum_vlucht== '2023-05-13') and (start == 'Brussel') and (stop== 'Tenerife') \").count()"
   ]
  },
  {
   "attachments": {},
   "cell_type": "markdown",
   "metadata": {},
   "source": [
    "# BrusslesAirlines\tBrussel\tRhodos\tAantal vluchten\t06/06 tot en met 07/07"
   ]
  },
  {
   "cell_type": "code",
   "execution_count": null,
   "metadata": {},
   "outputs": [],
   "source": [
    "vluchtenrhodos = brusselsAir.query(\"(datum_vlucht >= '2023-06-06') and (datum_vlucht < '2023-07-07') and (start == 'Brussel') and (stop == 'Rhodos')\").count()\n",
    "print(vluchtenrhodos)"
   ]
  },
  {
   "attachments": {},
   "cell_type": "markdown",
   "metadata": {},
   "source": [
    "# BrusslesAirlines\tBrussel\tBrindisi\tvertrekuur\tmei"
   ]
  },
  {
   "cell_type": "code",
   "execution_count": null,
   "metadata": {},
   "outputs": [],
   "source": [
    "brusselsAir.query(\"(datum_vlucht => '2023-05-01') and (datum_vlucht < '2023-06-01')  and (start == 'Brussel') and (stop == 'Brindisi')\")['Vertrek uur']"
   ]
  },
  {
   "attachments": {},
   "cell_type": "markdown",
   "metadata": {},
   "source": [
    "# BrusslesAirlines\tBrussel\tNapels\tAankomst uur juni"
   ]
  },
  {
   "cell_type": "code",
   "execution_count": null,
   "metadata": {},
   "outputs": [],
   "source": [
    "brusselsAir.query(\"(datum vlucht => '2023-06-01') and (datum_vlucht< '2023-07-01')  and (start == 'Brussel') and (stop == 'Napels')\")['Aankomst uur']"
   ]
  },
  {
   "attachments": {},
   "cell_type": "markdown",
   "metadata": {},
   "source": [
    "# BrusslesAirlines\tBrussel\tPalermo\tAantal tussenstops\tJuli"
   ]
  },
  {
   "cell_type": "code",
   "execution_count": null,
   "metadata": {},
   "outputs": [],
   "source": [
    "som = brusselsAir.query(\"(datum vlucht => '2023-07-01') and (datum_vlucht< '2023-08-01')  and (start == 'Brussel') and (stop == 'Palermo')\")['aantalStops']"
   ]
  },
  {
   "attachments": {},
   "cell_type": "markdown",
   "metadata": {},
   "source": [
    "# BrusslesAirlines\tBrussel\tFaro\tgemiddelde prijs\tApril"
   ]
  },
  {
   "cell_type": "code",
   "execution_count": null,
   "metadata": {},
   "outputs": [],
   "source": [
    "prijs =brusselsAir.query(\"(datum_vlucht >= '2023-04-01') and (datum_vlucht < '2023-05-01') and (start == 'Brussel') and (stop == 'Faro')\")['prijs'].sum()\n",
    "aantal=brusselsAir.query(\"(datum_vlucht >= '2023-04-01') and (datum_vlucht < '2023-05-01') and (start == 'Brussel') and (stop == 'Faro')\").count()\n",
    "print(prijs/aantal)"
   ]
  },
  {
   "attachments": {},
   "cell_type": "markdown",
   "metadata": {},
   "source": [
    "# BrusslesAirlines\tBrussel\tAllicante   Aantal vluchten\tJuli"
   ]
  },
  {
   "cell_type": "code",
   "execution_count": null,
   "metadata": {},
   "outputs": [],
   "source": [
    "count=brusselsAir.query('datum_vlucht >= \"2023-07-01\" and datum_vlucht <= \"2023-08-01\" and start == \"Brussel\" and stop == \"Allicante\"').count()\n",
    "print(count)"
   ]
  },
  {
   "attachments": {},
   "cell_type": "markdown",
   "metadata": {},
   "source": [
    "# BrusslesAirlines\tBrussel\tIbiza\tVertrek uur Juni"
   ]
  },
  {
   "cell_type": "code",
   "execution_count": null,
   "metadata": {},
   "outputs": [],
   "source": [
    "brusselsAir.query(\"(datum_vlucht => '2023-06-01') and (datum_vlucht < '2023-07-01')  and (start == 'Brussel') and (stop == 'Ibiza')\")['Vertrek uur']"
   ]
  },
  {
   "attachments": {},
   "cell_type": "markdown",
   "metadata": {},
   "source": [
    "# BrusslesAirlines\tBrussel\tMalaga\tAankomst uur\tJuli"
   ]
  },
  {
   "cell_type": "code",
   "execution_count": null,
   "metadata": {},
   "outputs": [],
   "source": [
    "brusselsAir.query(\"(datum vlucht => '2023-07-01') and (datum_vlucht< '2023-08-01')  and (start == 'Brussel') and (stop == 'Malaga')\")['Aankomst uur']"
   ]
  },
  {
   "attachments": {},
   "cell_type": "markdown",
   "metadata": {},
   "source": [
    "# BrusslesAirlines\tBrussel\tTenerife\tAantal tussenstops\tApril"
   ]
  },
  {
   "cell_type": "code",
   "execution_count": null,
   "metadata": {},
   "outputs": [],
   "source": [
    "brusselsAir.query(\"(datum_vlucht => '2023-04-01') and (datum_vlucht < '2023-05-01')  and (start == 'Brussel') and (stop == 'Tenerife')\")['aantalStops']"
   ]
  }
 ],
 "metadata": {
  "kernelspec": {
   "display_name": "Python 3",
   "language": "python",
   "name": "python3"
  },
  "language_info": {
   "codemirror_mode": {
    "name": "ipython",
    "version": 3
   },
   "file_extension": ".py",
   "mimetype": "text/x-python",
   "name": "python",
   "nbconvert_exporter": "python",
   "pygments_lexer": "ipython3",
   "version": "3.10.7"
  },
  "orig_nbformat": 4
 },
 "nbformat": 4,
 "nbformat_minor": 2
}
