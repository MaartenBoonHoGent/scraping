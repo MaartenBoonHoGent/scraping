{
 "cells": [
  {
   "cell_type": "code",
   "execution_count": 96,
   "metadata": {},
   "outputs": [],
   "source": [
    "# Importing the necessary packages\n",
    "import numpy as np                                  # \"Scientific computing\"\n",
    "import scipy.stats as stats                         # Statistical tests\n",
    "\n",
    "import pandas as pd                                 # Data Frame\n",
    "from pandas.api.types import CategoricalDtype\n",
    "\n",
    "import matplotlib.pyplot as plt                     # Basic visualisation\n",
    "from statsmodels.graphics.mosaicplot import mosaic  # Mosaic diagram\n",
    "import seaborn as sns                               # Advanced data visualisation\n",
    "import altair as alt                                # Alternative visualisation system"
   ]
  },
  {
   "cell_type": "code",
   "execution_count": 97,
   "metadata": {},
   "outputs": [
    {
     "name": "stdout",
     "output_type": "stream",
     "text": [
      "<class 'pandas.core.frame.DataFrame'>\n",
      "RangeIndex: 2811 entries, 0 to 2810\n",
      "Data columns (total 19 columns):\n",
      " #   Column              Non-Null Count  Dtype  \n",
      "---  ------              --------------  -----  \n",
      " 0   date_data_recieved  2811 non-null   object \n",
      " 1   departDate          2811 non-null   object \n",
      " 2   arrivalDate         2811 non-null   object \n",
      " 3   flightNumber        2811 non-null   int64  \n",
      " 4   productId           2811 non-null   object \n",
      " 5   depTime             2811 non-null   object \n",
      " 6   arrivalTime         2811 non-null   object \n",
      " 7   departAirportCode   2811 non-null   object \n",
      " 8   arrivalAirportCode  2811 non-null   object \n",
      " 9   journeyType         2811 non-null   object \n",
      " 10  totalNumberOfStops  2811 non-null   int64  \n",
      " 11  journeyDuration     2811 non-null   object \n",
      " 12  arrivalAirportName  2811 non-null   object \n",
      " 13  departAirportName   2811 non-null   object \n",
      " 14  availableSeats      2811 non-null   int64  \n",
      " 15  carrierCode         2811 non-null   object \n",
      " 16  carrierName         2811 non-null   object \n",
      " 17  totalPrice          2811 non-null   float64\n",
      " 18  adultPrice          2811 non-null   float64\n",
      "dtypes: float64(2), int64(3), object(14)\n",
      "memory usage: 417.4+ KB\n"
     ]
    }
   ],
   "source": [
    "tuifly = pd.read_csv('../scraping/tuifly.csv')\n",
    "\n",
    "tuifly.head()\n",
    "tuifly.info()"
   ]
  },
  {
   "cell_type": "code",
   "execution_count": 98,
   "metadata": {},
   "outputs": [],
   "source": [
    "tuifly['departDate'] = pd.to_datetime(tuifly['departDate']) \n",
    "tuifly['arrivalDate'] = pd.to_datetime(tuifly['arrivalDate'])"
   ]
  },
  {
   "cell_type": "code",
   "execution_count": 99,
   "metadata": {},
   "outputs": [
    {
     "name": "stdout",
     "output_type": "stream",
     "text": [
      "<class 'pandas.core.frame.DataFrame'>\n",
      "RangeIndex: 2811 entries, 0 to 2810\n",
      "Data columns (total 19 columns):\n",
      " #   Column              Non-Null Count  Dtype         \n",
      "---  ------              --------------  -----         \n",
      " 0   date_data_recieved  2811 non-null   object        \n",
      " 1   departDate          2811 non-null   datetime64[ns]\n",
      " 2   arrivalDate         2811 non-null   datetime64[ns]\n",
      " 3   flightNumber        2811 non-null   int64         \n",
      " 4   productId           2811 non-null   object        \n",
      " 5   depTime             2811 non-null   object        \n",
      " 6   arrivalTime         2811 non-null   object        \n",
      " 7   departAirportCode   2811 non-null   object        \n",
      " 8   arrivalAirportCode  2811 non-null   object        \n",
      " 9   journeyType         2811 non-null   object        \n",
      " 10  totalNumberOfStops  2811 non-null   int64         \n",
      " 11  journeyDuration     2811 non-null   object        \n",
      " 12  arrivalAirportName  2811 non-null   object        \n",
      " 13  departAirportName   2811 non-null   object        \n",
      " 14  availableSeats      2811 non-null   int64         \n",
      " 15  carrierCode         2811 non-null   object        \n",
      " 16  carrierName         2811 non-null   object        \n",
      " 17  totalPrice          2811 non-null   float64       \n",
      " 18  adultPrice          2811 non-null   float64       \n",
      "dtypes: datetime64[ns](2), float64(2), int64(3), object(12)\n",
      "memory usage: 417.4+ KB\n"
     ]
    }
   ],
   "source": [
    "tuifly.info()"
   ]
  },
  {
   "attachments": {},
   "cell_type": "markdown",
   "metadata": {},
   "source": [
    "1) aantal vluchten Brussel-Corfu in mei"
   ]
  },
  {
   "cell_type": "code",
   "execution_count": 100,
   "metadata": {},
   "outputs": [
    {
     "data": {
      "text/plain": [
       "2754.8499999999995"
      ]
     },
     "execution_count": 100,
     "metadata": {},
     "output_type": "execute_result"
    }
   ],
   "source": [
    "prijs =tuifly.query(\"(departDate >= '2023-06-01') and (departDate < '2023-07-01') and (departAirportCode == 'ANR') and (arrivalAirportCode == 'ALC')\")['totalPrice'].sum()\n",
    "prijs"
   ]
  },
  {
   "cell_type": "code",
   "execution_count": 101,
   "metadata": {},
   "outputs": [
    {
     "data": {
      "text/plain": [
       "15"
      ]
     },
     "execution_count": 101,
     "metadata": {},
     "output_type": "execute_result"
    }
   ],
   "source": [
    "aantal =tuifly.query(\"(departDate >= '2023-06-01') and (departDate < '2023-07-01') and (departAirportCode == 'ANR') and (arrivalAirportCode == 'ALC')\")['totalPrice'].count()\n",
    "aantal"
   ]
  },
  {
   "cell_type": "code",
   "execution_count": 102,
   "metadata": {},
   "outputs": [
    {
     "data": {
      "text/plain": [
       "183.65666666666664"
      ]
     },
     "execution_count": 102,
     "metadata": {},
     "output_type": "execute_result"
    }
   ],
   "source": [
    "gemiddelde_prijs=prijs/aantal\n",
    "gemiddelde_prijs"
   ]
  },
  {
   "attachments": {},
   "cell_type": "markdown",
   "metadata": {},
   "source": [
    "2. Gemiddelde prijs Luik-Rhodos april"
   ]
  },
  {
   "cell_type": "code",
   "execution_count": 103,
   "metadata": {},
   "outputs": [
    {
     "data": {
      "text/html": [
       "<div>\n",
       "<style scoped>\n",
       "    .dataframe tbody tr th:only-of-type {\n",
       "        vertical-align: middle;\n",
       "    }\n",
       "\n",
       "    .dataframe tbody tr th {\n",
       "        vertical-align: top;\n",
       "    }\n",
       "\n",
       "    .dataframe thead th {\n",
       "        text-align: right;\n",
       "    }\n",
       "</style>\n",
       "<table border=\"1\" class=\"dataframe\">\n",
       "  <thead>\n",
       "    <tr style=\"text-align: right;\">\n",
       "      <th></th>\n",
       "      <th>date_data_recieved</th>\n",
       "      <th>departDate</th>\n",
       "      <th>arrivalDate</th>\n",
       "      <th>flightNumber</th>\n",
       "      <th>productId</th>\n",
       "      <th>depTime</th>\n",
       "      <th>arrivalTime</th>\n",
       "      <th>departAirportCode</th>\n",
       "      <th>arrivalAirportCode</th>\n",
       "      <th>journeyType</th>\n",
       "      <th>totalNumberOfStops</th>\n",
       "      <th>journeyDuration</th>\n",
       "      <th>arrivalAirportName</th>\n",
       "      <th>departAirportName</th>\n",
       "      <th>availableSeats</th>\n",
       "      <th>carrierCode</th>\n",
       "      <th>carrierName</th>\n",
       "      <th>totalPrice</th>\n",
       "      <th>adultPrice</th>\n",
       "    </tr>\n",
       "  </thead>\n",
       "  <tbody>\n",
       "    <tr>\n",
       "      <th>174</th>\n",
       "      <td>2023-03-16</td>\n",
       "      <td>2023-04-23</td>\n",
       "      <td>2023-04-23</td>\n",
       "      <td>2365</td>\n",
       "      <td>eJyMkt+K4jAYxV9FPm+/zORPa2vurDpxMdhFK84iIm2aLt...</td>\n",
       "      <td>12:45</td>\n",
       "      <td>17:35</td>\n",
       "      <td>LGG</td>\n",
       "      <td>RHO</td>\n",
       "      <td>Direct</td>\n",
       "      <td>0</td>\n",
       "      <td>3u 50m</td>\n",
       "      <td>Rhodos</td>\n",
       "      <td>Luik</td>\n",
       "      <td>10</td>\n",
       "      <td>TB</td>\n",
       "      <td>TUI fly</td>\n",
       "      <td>219.99</td>\n",
       "      <td>219.99</td>\n",
       "    </tr>\n",
       "    <tr>\n",
       "      <th>256</th>\n",
       "      <td>2023-03-16</td>\n",
       "      <td>2023-04-30</td>\n",
       "      <td>2023-04-30</td>\n",
       "      <td>2365</td>\n",
       "      <td>eJyMklGL4jAUhf+KXF9vZm6aVm3erDpxsdhFK84iImlNlu...</td>\n",
       "      <td>12:45</td>\n",
       "      <td>17:35</td>\n",
       "      <td>LGG</td>\n",
       "      <td>RHO</td>\n",
       "      <td>Direct</td>\n",
       "      <td>0</td>\n",
       "      <td>3u 50m</td>\n",
       "      <td>Rhodos</td>\n",
       "      <td>Luik</td>\n",
       "      <td>10</td>\n",
       "      <td>TB</td>\n",
       "      <td>TUI fly</td>\n",
       "      <td>319.99</td>\n",
       "      <td>319.99</td>\n",
       "    </tr>\n",
       "  </tbody>\n",
       "</table>\n",
       "</div>"
      ],
      "text/plain": [
       "    date_data_recieved departDate arrivalDate  flightNumber  \\\n",
       "174         2023-03-16 2023-04-23  2023-04-23          2365   \n",
       "256         2023-03-16 2023-04-30  2023-04-30          2365   \n",
       "\n",
       "                                             productId depTime arrivalTime  \\\n",
       "174  eJyMkt+K4jAYxV9FPm+/zORPa2vurDpxMdhFK84iIm2aLt...   12:45       17:35   \n",
       "256  eJyMklGL4jAUhf+KXF9vZm6aVm3erDpxsdhFK84iImlNlu...   12:45       17:35   \n",
       "\n",
       "    departAirportCode arrivalAirportCode journeyType  totalNumberOfStops  \\\n",
       "174               LGG                RHO      Direct                   0   \n",
       "256               LGG                RHO      Direct                   0   \n",
       "\n",
       "    journeyDuration arrivalAirportName departAirportName  availableSeats  \\\n",
       "174          3u 50m             Rhodos              Luik              10   \n",
       "256          3u 50m             Rhodos              Luik              10   \n",
       "\n",
       "    carrierCode carrierName  totalPrice  adultPrice  \n",
       "174          TB     TUI fly      219.99      219.99  \n",
       "256          TB     TUI fly      319.99      319.99  "
      ]
     },
     "execution_count": 103,
     "metadata": {},
     "output_type": "execute_result"
    }
   ],
   "source": [
    "tuifly.query(\"(departDate >= '2023-04-01') and (departDate < '2023-05-01') and (departAirportCode == 'LGG') and (arrivalAirportCode == 'RHO')\")"
   ]
  },
  {
   "attachments": {},
   "cell_type": "markdown",
   "metadata": {},
   "source": [
    "3. vertrekuur Brussel-Brinddisi 18 jul"
   ]
  },
  {
   "cell_type": "code",
   "execution_count": 104,
   "metadata": {},
   "outputs": [
    {
     "data": {
      "text/html": [
       "<div>\n",
       "<style scoped>\n",
       "    .dataframe tbody tr th:only-of-type {\n",
       "        vertical-align: middle;\n",
       "    }\n",
       "\n",
       "    .dataframe tbody tr th {\n",
       "        vertical-align: top;\n",
       "    }\n",
       "\n",
       "    .dataframe thead th {\n",
       "        text-align: right;\n",
       "    }\n",
       "</style>\n",
       "<table border=\"1\" class=\"dataframe\">\n",
       "  <thead>\n",
       "    <tr style=\"text-align: right;\">\n",
       "      <th></th>\n",
       "      <th>date_data_recieved</th>\n",
       "      <th>departDate</th>\n",
       "      <th>arrivalDate</th>\n",
       "      <th>flightNumber</th>\n",
       "      <th>productId</th>\n",
       "      <th>depTime</th>\n",
       "      <th>arrivalTime</th>\n",
       "      <th>departAirportCode</th>\n",
       "      <th>arrivalAirportCode</th>\n",
       "      <th>journeyType</th>\n",
       "      <th>totalNumberOfStops</th>\n",
       "      <th>journeyDuration</th>\n",
       "      <th>arrivalAirportName</th>\n",
       "      <th>departAirportName</th>\n",
       "      <th>availableSeats</th>\n",
       "      <th>carrierCode</th>\n",
       "      <th>carrierName</th>\n",
       "      <th>totalPrice</th>\n",
       "      <th>adultPrice</th>\n",
       "    </tr>\n",
       "  </thead>\n",
       "  <tbody>\n",
       "    <tr>\n",
       "      <th>1416</th>\n",
       "      <td>2023-03-16</td>\n",
       "      <td>2023-07-18</td>\n",
       "      <td>2023-07-18</td>\n",
       "      <td>3511</td>\n",
       "      <td>eJyMkl2L4j4Yxb+KPN4+mXnSNrbNnfGl/LHon77gLCKS1r...</td>\n",
       "      <td>15:15</td>\n",
       "      <td>18:00</td>\n",
       "      <td>BRU</td>\n",
       "      <td>BDS</td>\n",
       "      <td>Direct</td>\n",
       "      <td>0</td>\n",
       "      <td>2u 45m</td>\n",
       "      <td>Brindisi</td>\n",
       "      <td>Brussel</td>\n",
       "      <td>10</td>\n",
       "      <td>TB</td>\n",
       "      <td>TUI fly</td>\n",
       "      <td>229.99</td>\n",
       "      <td>229.99</td>\n",
       "    </tr>\n",
       "  </tbody>\n",
       "</table>\n",
       "</div>"
      ],
      "text/plain": [
       "     date_data_recieved departDate arrivalDate  flightNumber  \\\n",
       "1416         2023-03-16 2023-07-18  2023-07-18          3511   \n",
       "\n",
       "                                              productId depTime arrivalTime  \\\n",
       "1416  eJyMkl2L4j4Yxb+KPN4+mXnSNrbNnfGl/LHon77gLCKS1r...   15:15       18:00   \n",
       "\n",
       "     departAirportCode arrivalAirportCode journeyType  totalNumberOfStops  \\\n",
       "1416               BRU                BDS      Direct                   0   \n",
       "\n",
       "     journeyDuration arrivalAirportName departAirportName  availableSeats  \\\n",
       "1416          2u 45m           Brindisi           Brussel              10   \n",
       "\n",
       "     carrierCode carrierName  totalPrice  adultPrice  \n",
       "1416          TB     TUI fly      229.99      229.99  "
      ]
     },
     "execution_count": 104,
     "metadata": {},
     "output_type": "execute_result"
    }
   ],
   "source": [
    "tuifly.query(\"(departDate == '2023-07-18')  and (departAirportCode == 'BRU') and (arrivalAirportCode == 'BDS')\")"
   ]
  },
  {
   "attachments": {},
   "cell_type": "markdown",
   "metadata": {},
   "source": [
    "4. aankomstuur Luik-Alicante op 19 jun"
   ]
  },
  {
   "cell_type": "code",
   "execution_count": 105,
   "metadata": {},
   "outputs": [
    {
     "data": {
      "text/html": [
       "<div>\n",
       "<style scoped>\n",
       "    .dataframe tbody tr th:only-of-type {\n",
       "        vertical-align: middle;\n",
       "    }\n",
       "\n",
       "    .dataframe tbody tr th {\n",
       "        vertical-align: top;\n",
       "    }\n",
       "\n",
       "    .dataframe thead th {\n",
       "        text-align: right;\n",
       "    }\n",
       "</style>\n",
       "<table border=\"1\" class=\"dataframe\">\n",
       "  <thead>\n",
       "    <tr style=\"text-align: right;\">\n",
       "      <th></th>\n",
       "      <th>date_data_recieved</th>\n",
       "      <th>departDate</th>\n",
       "      <th>arrivalDate</th>\n",
       "      <th>flightNumber</th>\n",
       "      <th>productId</th>\n",
       "      <th>depTime</th>\n",
       "      <th>arrivalTime</th>\n",
       "      <th>departAirportCode</th>\n",
       "      <th>arrivalAirportCode</th>\n",
       "      <th>journeyType</th>\n",
       "      <th>totalNumberOfStops</th>\n",
       "      <th>journeyDuration</th>\n",
       "      <th>arrivalAirportName</th>\n",
       "      <th>departAirportName</th>\n",
       "      <th>availableSeats</th>\n",
       "      <th>carrierCode</th>\n",
       "      <th>carrierName</th>\n",
       "      <th>totalPrice</th>\n",
       "      <th>adultPrice</th>\n",
       "    </tr>\n",
       "  </thead>\n",
       "  <tbody>\n",
       "    <tr>\n",
       "      <th>978</th>\n",
       "      <td>2023-03-16</td>\n",
       "      <td>2023-06-19</td>\n",
       "      <td>2023-06-19</td>\n",
       "      <td>1161</td>\n",
       "      <td>eJyMkl+L4jwYxb+KPN4+mUn6JzW5a6sTXg36MirOIiJpTZ...</td>\n",
       "      <td>06:00</td>\n",
       "      <td>08:45</td>\n",
       "      <td>LGG</td>\n",
       "      <td>ALC</td>\n",
       "      <td>Direct</td>\n",
       "      <td>0</td>\n",
       "      <td>2u 45m</td>\n",
       "      <td>Alicante</td>\n",
       "      <td>Luik</td>\n",
       "      <td>10</td>\n",
       "      <td>TB</td>\n",
       "      <td>TUI fly</td>\n",
       "      <td>159.99</td>\n",
       "      <td>159.99</td>\n",
       "    </tr>\n",
       "  </tbody>\n",
       "</table>\n",
       "</div>"
      ],
      "text/plain": [
       "    date_data_recieved departDate arrivalDate  flightNumber  \\\n",
       "978         2023-03-16 2023-06-19  2023-06-19          1161   \n",
       "\n",
       "                                             productId depTime arrivalTime  \\\n",
       "978  eJyMkl+L4jwYxb+KPN4+mUn6JzW5a6sTXg36MirOIiJpTZ...   06:00       08:45   \n",
       "\n",
       "    departAirportCode arrivalAirportCode journeyType  totalNumberOfStops  \\\n",
       "978               LGG                ALC      Direct                   0   \n",
       "\n",
       "    journeyDuration arrivalAirportName departAirportName  availableSeats  \\\n",
       "978          2u 45m           Alicante              Luik              10   \n",
       "\n",
       "    carrierCode carrierName  totalPrice  adultPrice  \n",
       "978          TB     TUI fly      159.99      159.99  "
      ]
     },
     "execution_count": 105,
     "metadata": {},
     "output_type": "execute_result"
    }
   ],
   "source": [
    "tuifly.query(\"(departDate == '2023-06-19')  and (departAirportCode == 'LGG') and (arrivalAirportCode == 'ALC')\")"
   ]
  },
  {
   "attachments": {},
   "cell_type": "markdown",
   "metadata": {},
   "source": [
    "5. aantal stops brussel corfu 23 mei"
   ]
  },
  {
   "cell_type": "code",
   "execution_count": 107,
   "metadata": {},
   "outputs": [
    {
     "data": {
      "text/html": [
       "<div>\n",
       "<style scoped>\n",
       "    .dataframe tbody tr th:only-of-type {\n",
       "        vertical-align: middle;\n",
       "    }\n",
       "\n",
       "    .dataframe tbody tr th {\n",
       "        vertical-align: top;\n",
       "    }\n",
       "\n",
       "    .dataframe thead th {\n",
       "        text-align: right;\n",
       "    }\n",
       "</style>\n",
       "<table border=\"1\" class=\"dataframe\">\n",
       "  <thead>\n",
       "    <tr style=\"text-align: right;\">\n",
       "      <th></th>\n",
       "      <th>date_data_recieved</th>\n",
       "      <th>departDate</th>\n",
       "      <th>arrivalDate</th>\n",
       "      <th>flightNumber</th>\n",
       "      <th>productId</th>\n",
       "      <th>depTime</th>\n",
       "      <th>arrivalTime</th>\n",
       "      <th>departAirportCode</th>\n",
       "      <th>arrivalAirportCode</th>\n",
       "      <th>journeyType</th>\n",
       "      <th>totalNumberOfStops</th>\n",
       "      <th>journeyDuration</th>\n",
       "      <th>arrivalAirportName</th>\n",
       "      <th>departAirportName</th>\n",
       "      <th>availableSeats</th>\n",
       "      <th>carrierCode</th>\n",
       "      <th>carrierName</th>\n",
       "      <th>totalPrice</th>\n",
       "      <th>adultPrice</th>\n",
       "    </tr>\n",
       "  </thead>\n",
       "  <tbody>\n",
       "    <tr>\n",
       "      <th>525</th>\n",
       "      <td>2023-03-16</td>\n",
       "      <td>2023-05-23</td>\n",
       "      <td>2023-05-23</td>\n",
       "      <td>2161</td>\n",
       "      <td>eJyMkmGL2kAQhv+KjF9n72Z3s0nYb9mgoeTwjpjgFRFJ4q...</td>\n",
       "      <td>06:00</td>\n",
       "      <td>12:10</td>\n",
       "      <td>BRU</td>\n",
       "      <td>CFU</td>\n",
       "      <td>Stop Over</td>\n",
       "      <td>1</td>\n",
       "      <td>5u 10m</td>\n",
       "      <td>Corfu</td>\n",
       "      <td>Brussel</td>\n",
       "      <td>10</td>\n",
       "      <td>TB</td>\n",
       "      <td>TUI fly</td>\n",
       "      <td>179.99</td>\n",
       "      <td>179.99</td>\n",
       "    </tr>\n",
       "  </tbody>\n",
       "</table>\n",
       "</div>"
      ],
      "text/plain": [
       "    date_data_recieved departDate arrivalDate  flightNumber  \\\n",
       "525         2023-03-16 2023-05-23  2023-05-23          2161   \n",
       "\n",
       "                                             productId depTime arrivalTime  \\\n",
       "525  eJyMkmGL2kAQhv+KjF9n72Z3s0nYb9mgoeTwjpjgFRFJ4q...   06:00       12:10   \n",
       "\n",
       "    departAirportCode arrivalAirportCode journeyType  totalNumberOfStops  \\\n",
       "525               BRU                CFU   Stop Over                   1   \n",
       "\n",
       "    journeyDuration arrivalAirportName departAirportName  availableSeats  \\\n",
       "525          5u 10m              Corfu           Brussel              10   \n",
       "\n",
       "    carrierCode carrierName  totalPrice  adultPrice  \n",
       "525          TB     TUI fly      179.99      179.99  "
      ]
     },
     "execution_count": 107,
     "metadata": {},
     "output_type": "execute_result"
    }
   ],
   "source": [
    "tuifly.query(\"(departDate == '2023-05-23')  and (departAirportCode == 'BRU') and (arrivalAirportCode == 'CFU')\")"
   ]
  }
 ],
 "metadata": {
  "kernelspec": {
   "display_name": "Python 3",
   "language": "python",
   "name": "python3"
  },
  "language_info": {
   "codemirror_mode": {
    "name": "ipython",
    "version": 3
   },
   "file_extension": ".py",
   "mimetype": "text/x-python",
   "name": "python",
   "nbconvert_exporter": "python",
   "pygments_lexer": "ipython3",
   "version": "3.11.2"
  },
  "orig_nbformat": 4
 },
 "nbformat": 4,
 "nbformat_minor": 2
}
