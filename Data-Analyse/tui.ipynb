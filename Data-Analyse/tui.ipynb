{
 "cells": [
  {
   "cell_type": "code",
   "execution_count": 127,
   "metadata": {},
   "outputs": [],
   "source": [
    "# Importing the necessary packages\n",
    "import numpy as np                                  # \"Scientific computing\"\n",
    "import scipy.stats as stats                         # Statistical tests\n",
    "\n",
    "import pandas as pd                                 # Data Frame\n",
    "from pandas.api.types import CategoricalDtype\n",
    "\n",
    "import matplotlib.pyplot as plt                     # Basic visualisation\n",
    "from statsmodels.graphics.mosaicplot import mosaic  # Mosaic diagram\n",
    "import seaborn as sns                               # Advanced data visualisation\n",
    "import altair as alt                                # Alternative visualisation system"
   ]
  },
  {
   "attachments": {},
   "cell_type": "markdown",
   "metadata": {},
   "source": [
    "* TUI\tBrugge - Oostende\tBrindisi\tAantal vluchten\tAugustus\n",
    "* TUI\tAntwerpen\tAlicante\tGemiddelde prijs\tJuni\n",
    "* TUI\tBrussel\tCorfu\tAantal vluchten\tMei\n",
    "* TUI\tLuik\tRhodos\tGemiddelde prijs\tApril\n",
    "* TUI\tBrussel\tBrindisi\tVertrekuur\t18-jul\n",
    "* TUI\tLuik\tAlicante\tAankomstuur\t19-jun\n",
    "* TUI\tBrussel\tCorfu\tAantal tussenstops\t23-mei\n",
    "* TUI\tBrugge - Oostende\tRhodos\tAantal plaatsen beschikbaar\t30-mei"
   ]
  },
  {
   "cell_type": "code",
   "execution_count": 128,
   "metadata": {},
   "outputs": [
    {
     "name": "stdout",
     "output_type": "stream",
     "text": [
      "<class 'pandas.core.frame.DataFrame'>\n",
      "RangeIndex: 2810 entries, 0 to 2809\n",
      "Data columns (total 19 columns):\n",
      " #   Column              Non-Null Count  Dtype  \n",
      "---  ------              --------------  -----  \n",
      " 0   date_data_recieved  2810 non-null   object \n",
      " 1   departDate          2810 non-null   object \n",
      " 2   arrivalDate         2810 non-null   object \n",
      " 3   flightNumber        2810 non-null   int64  \n",
      " 4   productId           2810 non-null   object \n",
      " 5   depTime             2810 non-null   object \n",
      " 6   arrivalTime         2810 non-null   object \n",
      " 7   departAirportCode   2810 non-null   object \n",
      " 8   arrivalAirportCode  2810 non-null   object \n",
      " 9   journeyType         2810 non-null   object \n",
      " 10  totalNumberOfStops  2810 non-null   int64  \n",
      " 11  journeyDuration     2810 non-null   object \n",
      " 12  arrivalAirportName  2810 non-null   object \n",
      " 13  departAirportName   2810 non-null   object \n",
      " 14  availableSeats      2810 non-null   int64  \n",
      " 15  carrierCode         2810 non-null   object \n",
      " 16  carrierName         2810 non-null   object \n",
      " 17  totalPrice          2810 non-null   float64\n",
      " 18  adultPrice          2810 non-null   float64\n",
      "dtypes: float64(2), int64(3), object(14)\n",
      "memory usage: 417.2+ KB\n"
     ]
    }
   ],
   "source": [
    "tuifly = pd.read_csv('../scraping/tuifly.csv')\n",
    "\n",
    "tuifly.head()\n",
    "tuifly.info()"
   ]
  },
  {
   "cell_type": "code",
   "execution_count": 129,
   "metadata": {},
   "outputs": [],
   "source": [
    "tuifly['departDate'] = pd.to_datetime(tuifly['departDate']) \n",
    "tuifly['arrivalDate'] = pd.to_datetime(tuifly['arrivalDate'])"
   ]
  },
  {
   "cell_type": "code",
   "execution_count": 130,
   "metadata": {},
   "outputs": [
    {
     "name": "stdout",
     "output_type": "stream",
     "text": [
      "<class 'pandas.core.frame.DataFrame'>\n",
      "RangeIndex: 2810 entries, 0 to 2809\n",
      "Data columns (total 19 columns):\n",
      " #   Column              Non-Null Count  Dtype         \n",
      "---  ------              --------------  -----         \n",
      " 0   date_data_recieved  2810 non-null   object        \n",
      " 1   departDate          2810 non-null   datetime64[ns]\n",
      " 2   arrivalDate         2810 non-null   datetime64[ns]\n",
      " 3   flightNumber        2810 non-null   int64         \n",
      " 4   productId           2810 non-null   object        \n",
      " 5   depTime             2810 non-null   object        \n",
      " 6   arrivalTime         2810 non-null   object        \n",
      " 7   departAirportCode   2810 non-null   object        \n",
      " 8   arrivalAirportCode  2810 non-null   object        \n",
      " 9   journeyType         2810 non-null   object        \n",
      " 10  totalNumberOfStops  2810 non-null   int64         \n",
      " 11  journeyDuration     2810 non-null   object        \n",
      " 12  arrivalAirportName  2810 non-null   object        \n",
      " 13  departAirportName   2810 non-null   object        \n",
      " 14  availableSeats      2810 non-null   int64         \n",
      " 15  carrierCode         2810 non-null   object        \n",
      " 16  carrierName         2810 non-null   object        \n",
      " 17  totalPrice          2810 non-null   float64       \n",
      " 18  adultPrice          2810 non-null   float64       \n",
      "dtypes: datetime64[ns](2), float64(2), int64(3), object(12)\n",
      "memory usage: 417.2+ KB\n"
     ]
    }
   ],
   "source": [
    "tuifly.info()"
   ]
  },
  {
   "attachments": {},
   "cell_type": "markdown",
   "metadata": {},
   "source": [
    "# TUI\tBrugge - Oostende\tBrindisi\tAantal vluchten\tAugustus\n"
   ]
  },
  {
   "cell_type": "code",
   "execution_count": 131,
   "metadata": {},
   "outputs": [
    {
     "data": {
      "text/html": [
       "<div>\n",
       "<style scoped>\n",
       "    .dataframe tbody tr th:only-of-type {\n",
       "        vertical-align: middle;\n",
       "    }\n",
       "\n",
       "    .dataframe tbody tr th {\n",
       "        vertical-align: top;\n",
       "    }\n",
       "\n",
       "    .dataframe thead th {\n",
       "        text-align: right;\n",
       "    }\n",
       "</style>\n",
       "<table border=\"1\" class=\"dataframe\">\n",
       "  <thead>\n",
       "    <tr style=\"text-align: right;\">\n",
       "      <th></th>\n",
       "      <th>date_data_recieved</th>\n",
       "      <th>departDate</th>\n",
       "      <th>arrivalDate</th>\n",
       "      <th>flightNumber</th>\n",
       "      <th>productId</th>\n",
       "      <th>depTime</th>\n",
       "      <th>arrivalTime</th>\n",
       "      <th>departAirportCode</th>\n",
       "      <th>arrivalAirportCode</th>\n",
       "      <th>journeyType</th>\n",
       "      <th>totalNumberOfStops</th>\n",
       "      <th>journeyDuration</th>\n",
       "      <th>arrivalAirportName</th>\n",
       "      <th>departAirportName</th>\n",
       "      <th>availableSeats</th>\n",
       "      <th>carrierCode</th>\n",
       "      <th>carrierName</th>\n",
       "      <th>totalPrice</th>\n",
       "      <th>adultPrice</th>\n",
       "    </tr>\n",
       "  </thead>\n",
       "  <tbody>\n",
       "  </tbody>\n",
       "</table>\n",
       "</div>"
      ],
      "text/plain": [
       "Empty DataFrame\n",
       "Columns: [date_data_recieved, departDate, arrivalDate, flightNumber, productId, depTime, arrivalTime, departAirportCode, arrivalAirportCode, journeyType, totalNumberOfStops, journeyDuration, arrivalAirportName, departAirportName, availableSeats, carrierCode, carrierName, totalPrice, adultPrice]\n",
       "Index: []"
      ]
     },
     "execution_count": 131,
     "metadata": {},
     "output_type": "execute_result"
    }
   ],
   "source": [
    "tuifly.query('departDate >= \"2023-08-01\" and departDate <= \"2023-09-01\" and departAirportCode == \"OST\" and arrivalAirportCode == \"BDS\"')"
   ]
  },
  {
   "attachments": {},
   "cell_type": "markdown",
   "metadata": {},
   "source": [
    "# TUI\tAntwerpen\tAlicante\tGemiddelde prijs\tJuni\n"
   ]
  },
  {
   "cell_type": "code",
   "execution_count": 132,
   "metadata": {},
   "outputs": [
    {
     "data": {
      "text/plain": [
       "2754.8499999999995"
      ]
     },
     "execution_count": 132,
     "metadata": {},
     "output_type": "execute_result"
    }
   ],
   "source": [
    "prijs =tuifly.query(\"(departDate >= '2023-06-01') and (departDate < '2023-07-01') and (departAirportCode == 'ANR') and (arrivalAirportCode == 'ALC')\")['totalPrice'].sum()\n",
    "prijs"
   ]
  },
  {
   "cell_type": "code",
   "execution_count": 133,
   "metadata": {},
   "outputs": [
    {
     "data": {
      "text/plain": [
       "15"
      ]
     },
     "execution_count": 133,
     "metadata": {},
     "output_type": "execute_result"
    }
   ],
   "source": [
    "aantal =tuifly.query(\"(departDate >= '2023-06-01') and (departDate < '2023-07-01') and (departAirportCode == 'ANR') and (arrivalAirportCode == 'ALC')\")['totalPrice'].count()\n",
    "aantal"
   ]
  },
  {
   "cell_type": "code",
   "execution_count": 134,
   "metadata": {},
   "outputs": [
    {
     "data": {
      "text/plain": [
       "183.65666666666664"
      ]
     },
     "execution_count": 134,
     "metadata": {},
     "output_type": "execute_result"
    }
   ],
   "source": [
    "gemiddelde_prijs=prijs/aantal\n",
    "gemiddelde_prijs"
   ]
  },
  {
   "attachments": {},
   "cell_type": "markdown",
   "metadata": {},
   "source": [
    "# TUI\tBrussel\tCorfu\tAantal vluchten\tMei\n"
   ]
  },
  {
   "cell_type": "code",
   "execution_count": 141,
   "metadata": {},
   "outputs": [
    {
     "data": {
      "text/plain": [
       "15"
      ]
     },
     "execution_count": 141,
     "metadata": {},
     "output_type": "execute_result"
    }
   ],
   "source": [
    "lenBRUCFU = len(tuifly.query(\"(departDate >= '2023-05-01') and (departDate < '2023-06-01') and (departAirportCode == 'BRU') and (arrivalAirportCode == 'CFU')\"))\n",
    "lenBRUCFU"
   ]
  },
  {
   "attachments": {},
   "cell_type": "markdown",
   "metadata": {},
   "source": [
    "# TUI\tLuik\tRhodos\tGemiddelde prijs\tApril\n"
   ]
  },
  {
   "cell_type": "code",
   "execution_count": 144,
   "metadata": {},
   "outputs": [
    {
     "name": "stdout",
     "output_type": "stream",
     "text": [
      "269.99\n"
     ]
    }
   ],
   "source": [
    "price = tuifly.query(\"(departDate >= '2023-04-01')  and (departDate < '2023-05-01') and (departAirportCode == 'LGG') and (arrivalAirportCode == 'RHO')\")['totalPrice'].sum()\n",
    "amount = tuifly.query(\"(departDate >= '2023-04-01')  and (departDate < '2023-05-01') and (departAirportCode == 'LGG') and (arrivalAirportCode == 'RHO')\")['totalPrice'].count()\n",
    "\n",
    "print(price/amount)"
   ]
  },
  {
   "attachments": {},
   "cell_type": "markdown",
   "metadata": {},
   "source": [
    "# TUI\tBrussel\tBrindisi\tVertrekuur\t18-jul\n"
   ]
  },
  {
   "cell_type": "code",
   "execution_count": 146,
   "metadata": {},
   "outputs": [
    {
     "data": {
      "text/plain": [
       "1415    15:15\n",
       "Name: depTime, dtype: object"
      ]
     },
     "execution_count": 146,
     "metadata": {},
     "output_type": "execute_result"
    }
   ],
   "source": [
    "tuifly.query(\"(departDate == '2023-07-18')  and (departAirportCode == 'BRU') and (arrivalAirportCode == 'BDS')\")['depTime']"
   ]
  },
  {
   "attachments": {},
   "cell_type": "markdown",
   "metadata": {},
   "source": [
    "# TUI\tLuik\tAlicante\tAankomstuur\t19-jun\n"
   ]
  },
  {
   "cell_type": "code",
   "execution_count": 147,
   "metadata": {},
   "outputs": [
    {
     "data": {
      "text/plain": [
       "977    08:45\n",
       "Name: arrivalTime, dtype: object"
      ]
     },
     "execution_count": 147,
     "metadata": {},
     "output_type": "execute_result"
    }
   ],
   "source": [
    "tuifly.query(\"(departDate == '2023-06-19')  and (departAirportCode == 'LGG') and (arrivalAirportCode == 'ALC')\")['arrivalTime']"
   ]
  },
  {
   "attachments": {},
   "cell_type": "markdown",
   "metadata": {},
   "source": [
    "# TUI\tBrussel\tCorfu\tAantal tussenstops\t23-mei\n"
   ]
  },
  {
   "cell_type": "code",
   "execution_count": 149,
   "metadata": {},
   "outputs": [
    {
     "data": {
      "text/plain": [
       "524    1\n",
       "Name: totalNumberOfStops, dtype: int64"
      ]
     },
     "execution_count": 149,
     "metadata": {},
     "output_type": "execute_result"
    }
   ],
   "source": [
    "tuifly.query(\"(departDate == '2023-05-23')  and (departAirportCode == 'BRU') and (arrivalAirportCode == 'CFU')\")['totalNumberOfStops']"
   ]
  },
  {
   "attachments": {},
   "cell_type": "markdown",
   "metadata": {},
   "source": [
    "# TUI\tBrugge - Oostende\tRhodos\tAantal plaatsen beschikbaar\t30-mei"
   ]
  },
  {
   "cell_type": "code",
   "execution_count": 151,
   "metadata": {},
   "outputs": [
    {
     "data": {
      "text/plain": [
       "645    10\n",
       "Name: availableSeats, dtype: int64"
      ]
     },
     "execution_count": 151,
     "metadata": {},
     "output_type": "execute_result"
    }
   ],
   "source": [
    "tuifly.query(\"(departDate == '2023-05-30')  and (departAirportCode == 'OST') and (arrivalAirportCode == 'RHO')\")['availableSeats']"
   ]
  }
 ],
 "metadata": {
  "kernelspec": {
   "display_name": "Python 3",
   "language": "python",
   "name": "python3"
  },
  "language_info": {
   "codemirror_mode": {
    "name": "ipython",
    "version": 3
   },
   "file_extension": ".py",
   "mimetype": "text/x-python",
   "name": "python",
   "nbconvert_exporter": "python",
   "pygments_lexer": "ipython3",
   "version": "3.11.2"
  },
  "orig_nbformat": 4
 },
 "nbformat": 4,
 "nbformat_minor": 2
}
