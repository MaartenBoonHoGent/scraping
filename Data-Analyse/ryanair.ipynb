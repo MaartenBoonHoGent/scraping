{
 "cells": [
  {
   "cell_type": "code",
   "execution_count": 1,
   "metadata": {},
   "outputs": [],
   "source": [
    "import pandas as pd\n",
    "import numpy as np"
   ]
  },
  {
   "cell_type": "code",
   "execution_count": 57,
   "metadata": {},
   "outputs": [
    {
     "name": "stdout",
     "output_type": "stream",
     "text": [
      "<class 'pandas.core.frame.DataFrame'>\n",
      "Int64Index: 10148 entries, 0 to 10147\n",
      "Data columns (total 35 columns):\n",
      " #   Column                 Non-Null Count  Dtype  \n",
      "---  ------                 --------------  -----  \n",
      " 0   termsOfUse             10148 non-null  object \n",
      " 1   currency               10148 non-null  object \n",
      " 2   currPrecision          10148 non-null  int64  \n",
      " 3   serverTimeUTC          10148 non-null  object \n",
      " 4   origin                 10148 non-null  object \n",
      " 5   originName             10148 non-null  object \n",
      " 6   destination            10148 non-null  object \n",
      " 7   destinationName        10148 non-null  object \n",
      " 8   routeGroup             10148 non-null  object \n",
      " 9   tripType               10148 non-null  object \n",
      " 10  upgradeType            10148 non-null  object \n",
      " 11  dateOut                10148 non-null  object \n",
      " 12  faresLeft              10148 non-null  int64  \n",
      " 13  flightKey              10148 non-null  object \n",
      " 14  infantLeft             0 non-null      float64\n",
      " 15  operatedBy             1184 non-null   object \n",
      " 16  flightNumber           10148 non-null  object \n",
      " 17  duration               10148 non-null  object \n",
      " 18  timeUTCStart           10148 non-null  object \n",
      " 19  timeUTCEnd             10148 non-null  object \n",
      " 20  timeStart              10148 non-null  object \n",
      " 21  timeEnd                10148 non-null  object \n",
      " 22  segmentAmnt            10148 non-null  int64  \n",
      " 23  fareType               10148 non-null  object \n",
      " 24  fareKey                10148 non-null  object \n",
      " 25  fareClass              10148 non-null  object \n",
      " 26  fareAmount             10148 non-null  float64\n",
      " 27  fareCount              10148 non-null  int64  \n",
      " 28  fareHasDiscount        10148 non-null  bool   \n",
      " 29  farePublishedFare      10148 non-null  float64\n",
      " 30  fareDiscountInPercent  10148 non-null  int64  \n",
      " 31  fareHasPromoDiscount   10148 non-null  bool   \n",
      " 32  fareDiscountAmount     10148 non-null  float64\n",
      " 33  fareHasBogof           10148 non-null  bool   \n",
      " 34  month                  10148 non-null  object \n",
      "dtypes: bool(3), float64(4), int64(5), object(23)\n",
      "memory usage: 2.8+ MB\n"
     ]
    }
   ],
   "source": [
    "# Import the dataframe\n",
    "df = pd.read_csv('../scraping/ryanair.csv')\n",
    "# Remove the duplicates based on the columns flightKey and fareKey\n",
    "df = df.drop_duplicates(subset=['flightKey', 'fareKey'])\n",
    "dfMonth = df['timeStart'].apply(lambda i: i.split('-')[1])\n",
    "df.loc[df.index, 'month'] = dfMonth\n",
    "df.info()"
   ]
  },
  {
   "cell_type": "code",
   "execution_count": 66,
   "metadata": {},
   "outputs": [
    {
     "data": {
      "text/plain": [
       "64"
      ]
     },
     "execution_count": 66,
     "metadata": {},
     "output_type": "execute_result"
    }
   ],
   "source": [
    "dfZaventemMalaga = df[(df['origin'] == 'BRU') & (df['destination'] == 'AGP')]\n",
    "# Create a month column based on the timeStart column\n",
    "len(dfZaventemMalaga[dfZaventemMalaga[\"month\"] == \"04\"].index)"
   ]
  },
  {
   "cell_type": "code",
   "execution_count": 67,
   "metadata": {},
   "outputs": [
    {
     "data": {
      "text/plain": [
       "85.32714285714285"
      ]
     },
     "execution_count": 67,
     "metadata": {},
     "output_type": "execute_result"
    }
   ],
   "source": [
    "dfZaventemPalma = df[(df['origin'] == 'BRU') & (df['destination'] == 'PMI')]\n",
    "# Calculate the average price for may\n",
    "dfZaventemPalma[dfZaventemPalma[\"month\"] == \"05\"][\"fareAmount\"].mean()"
   ]
  },
  {
   "cell_type": "code",
   "execution_count": 68,
   "metadata": {},
   "outputs": [
    {
     "data": {
      "text/plain": [
       "-5"
      ]
     },
     "execution_count": 68,
     "metadata": {},
     "output_type": "execute_result"
    }
   ],
   "source": [
    "dfZaventemMalaga[dfZaventemMalaga[\"month\"] == \"06\"][\"faresLeft\"].sum()"
   ]
  }
 ],
 "metadata": {
  "kernelspec": {
   "display_name": "Python 3",
   "language": "python",
   "name": "python3"
  },
  "language_info": {
   "codemirror_mode": {
    "name": "ipython",
    "version": 3
   },
   "file_extension": ".py",
   "mimetype": "text/x-python",
   "name": "python",
   "nbconvert_exporter": "python",
   "pygments_lexer": "ipython3",
   "version": "3.11.2"
  },
  "orig_nbformat": 4
 },
 "nbformat": 4,
 "nbformat_minor": 2
}
