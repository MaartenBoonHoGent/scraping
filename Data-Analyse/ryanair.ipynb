{
 "cells": [
  {
   "cell_type": "code",
   "execution_count": 71,
   "metadata": {},
   "outputs": [],
   "source": [
    "# Importing the necessary packages\n",
    "import numpy as np                                  # \"Scientific computing\"\n",
    "import scipy.stats as stats                         # Statistical tests\n",
    "\n",
    "import pandas as pd                                 # Data Frame\n",
    "from pandas.api.types import CategoricalDtype\n",
    "\n",
    "import matplotlib.pyplot as plt                     # Basic visualisation\n",
    "from statsmodels.graphics.mosaicplot import mosaic  # Mosaic diagram\n",
    "import seaborn as sns                               # Advanced data visualisation\n",
    "import altair as alt"
   ]
  },
  {
   "attachments": {},
   "cell_type": "markdown",
   "metadata": {},
   "source": [
    "* Ryanair\tBrussel-Zaventem\tMalaga\tAantal vluchten\tApril\n",
    "* Ryanair\tBrussel-Zaventem\tPalma\tGemiddelde prijs\tMei\n",
    "* Ryanair\tBrussel-Zaventem\tMalaga\tTotaal aantal plaatsen beschikbaar\tJuni\n",
    "* Ryanair\tBrussel-Zaventem\tTenerife\tAantal vluchten\t01/09 tot en met 14/09\n",
    "* Ryanair\tCharleroi\tAlicante\tAantal vluchten\tJuni\n",
    "* Ryanair\tCharleroi\tIbiza\tAantal vluchten\t15/08 tot en met 27/08\n",
    "* Ryanair\tCharleroi\tMalaga\tVertrekuur\t8-apr\n",
    "* Ryanair\tCharleroi\tPalma\tAankomstuur\t19-apr\n",
    "* Ryanair\tCharleroi\tTenerife\tGemiddelde prijs\t15-mei\n",
    "* Ryanair\tCharleroi\tNapels\tAantal plaatsen beschikbaar\t19-apr\n",
    "* Ryanair\tCharleroi\tPalermo\tAantal tussenstops\t26-mei\n",
    "* Ryanair\tCharleroi\tBrindisi\tGemiddelde prijs\t15/09 tot en met 30/10"
   ]
  },
  {
   "cell_type": "code",
   "execution_count": 72,
   "metadata": {},
   "outputs": [
    {
     "data": {
      "text/html": [
       "<div>\n",
       "<style scoped>\n",
       "    .dataframe tbody tr th:only-of-type {\n",
       "        vertical-align: middle;\n",
       "    }\n",
       "\n",
       "    .dataframe tbody tr th {\n",
       "        vertical-align: top;\n",
       "    }\n",
       "\n",
       "    .dataframe thead th {\n",
       "        text-align: right;\n",
       "    }\n",
       "</style>\n",
       "<table border=\"1\" class=\"dataframe\">\n",
       "  <thead>\n",
       "    <tr style=\"text-align: right;\">\n",
       "      <th></th>\n",
       "      <th>serverTimeUTC</th>\n",
       "      <th>origin</th>\n",
       "      <th>originName</th>\n",
       "      <th>destination</th>\n",
       "      <th>destinationName</th>\n",
       "      <th>timeStart</th>\n",
       "      <th>timeEnd</th>\n",
       "      <th>dateOut</th>\n",
       "      <th>depTime</th>\n",
       "      <th>arrivalTime</th>\n",
       "      <th>...</th>\n",
       "      <th>currPrecision</th>\n",
       "      <th>fareCount</th>\n",
       "      <th>fareHasDiscount</th>\n",
       "      <th>farePublishedFare</th>\n",
       "      <th>fareDiscountInPercent</th>\n",
       "      <th>fareHasPromoDiscount</th>\n",
       "      <th>fareDiscountAmount</th>\n",
       "      <th>fareHasBogof</th>\n",
       "      <th>flightKey</th>\n",
       "      <th>month</th>\n",
       "    </tr>\n",
       "  </thead>\n",
       "  <tbody>\n",
       "    <tr>\n",
       "      <th>0</th>\n",
       "      <td>2023-03-23</td>\n",
       "      <td>BRU</td>\n",
       "      <td>Brussels</td>\n",
       "      <td>AGP</td>\n",
       "      <td>Malaga</td>\n",
       "      <td>2023-04-02</td>\n",
       "      <td>2023-04-02</td>\n",
       "      <td>2023-04-02</td>\n",
       "      <td>09:55:00.000</td>\n",
       "      <td>12:50:00.000</td>\n",
       "      <td>...</td>\n",
       "      <td>2</td>\n",
       "      <td>1</td>\n",
       "      <td>False</td>\n",
       "      <td>186.15</td>\n",
       "      <td>0</td>\n",
       "      <td>False</td>\n",
       "      <td>0.0</td>\n",
       "      <td>False</td>\n",
       "      <td>FR~2923~ ~~BRU~04/02/2023 09:55~AGP~04/02/2023...</td>\n",
       "      <td>04</td>\n",
       "    </tr>\n",
       "    <tr>\n",
       "      <th>1</th>\n",
       "      <td>2023-03-23</td>\n",
       "      <td>BRU</td>\n",
       "      <td>Brussels</td>\n",
       "      <td>AGP</td>\n",
       "      <td>Malaga</td>\n",
       "      <td>2023-04-03</td>\n",
       "      <td>2023-04-03</td>\n",
       "      <td>2023-04-03</td>\n",
       "      <td>17:40:00.000</td>\n",
       "      <td>20:30:00.000</td>\n",
       "      <td>...</td>\n",
       "      <td>2</td>\n",
       "      <td>1</td>\n",
       "      <td>False</td>\n",
       "      <td>142.90</td>\n",
       "      <td>0</td>\n",
       "      <td>False</td>\n",
       "      <td>0.0</td>\n",
       "      <td>False</td>\n",
       "      <td>FR~2923~ ~~BRU~04/03/2023 17:40~AGP~04/03/2023...</td>\n",
       "      <td>04</td>\n",
       "    </tr>\n",
       "    <tr>\n",
       "      <th>2</th>\n",
       "      <td>2023-03-23</td>\n",
       "      <td>BRU</td>\n",
       "      <td>Brussels</td>\n",
       "      <td>PMI</td>\n",
       "      <td>Mallorca</td>\n",
       "      <td>2023-04-03</td>\n",
       "      <td>2023-04-03</td>\n",
       "      <td>2023-04-03</td>\n",
       "      <td>20:25:00.000</td>\n",
       "      <td>22:40:00.000</td>\n",
       "      <td>...</td>\n",
       "      <td>2</td>\n",
       "      <td>1</td>\n",
       "      <td>False</td>\n",
       "      <td>76.70</td>\n",
       "      <td>0</td>\n",
       "      <td>False</td>\n",
       "      <td>0.0</td>\n",
       "      <td>False</td>\n",
       "      <td>FR~2915~ ~~BRU~04/03/2023 20:25~PMI~04/03/2023...</td>\n",
       "      <td>04</td>\n",
       "    </tr>\n",
       "    <tr>\n",
       "      <th>3</th>\n",
       "      <td>2023-03-23</td>\n",
       "      <td>CRL</td>\n",
       "      <td>Brussels (Charleroi)</td>\n",
       "      <td>CFU</td>\n",
       "      <td>Corfu</td>\n",
       "      <td>2023-04-02</td>\n",
       "      <td>2023-04-02</td>\n",
       "      <td>2023-04-02</td>\n",
       "      <td>17:00:00.000</td>\n",
       "      <td>20:40:00.000</td>\n",
       "      <td>...</td>\n",
       "      <td>2</td>\n",
       "      <td>1</td>\n",
       "      <td>False</td>\n",
       "      <td>132.54</td>\n",
       "      <td>0</td>\n",
       "      <td>False</td>\n",
       "      <td>0.0</td>\n",
       "      <td>False</td>\n",
       "      <td>FR~6251~ ~~CRL~04/02/2023 17:00~CFU~04/02/2023...</td>\n",
       "      <td>04</td>\n",
       "    </tr>\n",
       "    <tr>\n",
       "      <th>4</th>\n",
       "      <td>2023-03-23</td>\n",
       "      <td>CRL</td>\n",
       "      <td>Brussels (Charleroi)</td>\n",
       "      <td>HER</td>\n",
       "      <td>Heraklion Crete</td>\n",
       "      <td>2023-04-01</td>\n",
       "      <td>2023-04-01</td>\n",
       "      <td>2023-04-01</td>\n",
       "      <td>08:10:00.000</td>\n",
       "      <td>12:35:00.000</td>\n",
       "      <td>...</td>\n",
       "      <td>2</td>\n",
       "      <td>1</td>\n",
       "      <td>True</td>\n",
       "      <td>211.99</td>\n",
       "      <td>0</td>\n",
       "      <td>False</td>\n",
       "      <td>15.2</td>\n",
       "      <td>False</td>\n",
       "      <td>FR~7986~ ~~CRL~04/01/2023 08:10~HER~04/01/2023...</td>\n",
       "      <td>04</td>\n",
       "    </tr>\n",
       "  </tbody>\n",
       "</table>\n",
       "<p>5 rows × 33 columns</p>\n",
       "</div>"
      ],
      "text/plain": [
       "  serverTimeUTC origin            originName destination  destinationName  \\\n",
       "0    2023-03-23    BRU              Brussels         AGP           Malaga   \n",
       "1    2023-03-23    BRU              Brussels         AGP           Malaga   \n",
       "2    2023-03-23    BRU              Brussels         PMI         Mallorca   \n",
       "3    2023-03-23    CRL  Brussels (Charleroi)         CFU            Corfu   \n",
       "4    2023-03-23    CRL  Brussels (Charleroi)         HER  Heraklion Crete   \n",
       "\n",
       "   timeStart    timeEnd     dateOut       depTime   arrivalTime  ...  \\\n",
       "0 2023-04-02 2023-04-02  2023-04-02  09:55:00.000  12:50:00.000  ...   \n",
       "1 2023-04-03 2023-04-03  2023-04-03  17:40:00.000  20:30:00.000  ...   \n",
       "2 2023-04-03 2023-04-03  2023-04-03  20:25:00.000  22:40:00.000  ...   \n",
       "3 2023-04-02 2023-04-02  2023-04-02  17:00:00.000  20:40:00.000  ...   \n",
       "4 2023-04-01 2023-04-01  2023-04-01  08:10:00.000  12:35:00.000  ...   \n",
       "\n",
       "  currPrecision fareCount fareHasDiscount farePublishedFare  \\\n",
       "0             2         1           False            186.15   \n",
       "1             2         1           False            142.90   \n",
       "2             2         1           False             76.70   \n",
       "3             2         1           False            132.54   \n",
       "4             2         1            True            211.99   \n",
       "\n",
       "  fareDiscountInPercent  fareHasPromoDiscount  fareDiscountAmount  \\\n",
       "0                     0                 False                 0.0   \n",
       "1                     0                 False                 0.0   \n",
       "2                     0                 False                 0.0   \n",
       "3                     0                 False                 0.0   \n",
       "4                     0                 False                15.2   \n",
       "\n",
       "  fareHasBogof                                          flightKey month  \n",
       "0        False  FR~2923~ ~~BRU~04/02/2023 09:55~AGP~04/02/2023...    04  \n",
       "1        False  FR~2923~ ~~BRU~04/03/2023 17:40~AGP~04/03/2023...    04  \n",
       "2        False  FR~2915~ ~~BRU~04/03/2023 20:25~PMI~04/03/2023...    04  \n",
       "3        False  FR~6251~ ~~CRL~04/02/2023 17:00~CFU~04/02/2023...    04  \n",
       "4        False  FR~7986~ ~~CRL~04/01/2023 08:10~HER~04/01/2023...    04  \n",
       "\n",
       "[5 rows x 33 columns]"
      ]
     },
     "execution_count": 72,
     "metadata": {},
     "output_type": "execute_result"
    }
   ],
   "source": [
    "ryanair = pd.read_csv('../scraping/ryanair.csv')\n",
    "ryanair = ryanair.drop_duplicates(subset=['flightKey'])\n",
    "dfMonth = ryanair['timeStart'].apply(lambda i: i.split('-')[1])\n",
    "ryanair['timeStart'] = pd.to_datetime(ryanair['timeStart']) \n",
    "ryanair['timeEnd'] = pd.to_datetime(ryanair['timeEnd'])\n",
    "ryanair.loc[ryanair.index, 'month'] = dfMonth\n",
    "ryanair.head()\n"
   ]
  },
  {
   "attachments": {},
   "cell_type": "markdown",
   "metadata": {},
   "source": [
    "# Ryanair\tBrussel-Zaventem\tMalaga\tAantal vluchten\tApril\n"
   ]
  },
  {
   "cell_type": "code",
   "execution_count": 73,
   "metadata": {},
   "outputs": [
    {
     "data": {
      "text/plain": [
       "13"
      ]
     },
     "execution_count": 73,
     "metadata": {},
     "output_type": "execute_result"
    }
   ],
   "source": [
    "count = ryanair.query('month == \"04\" and origin == \"BRU\" and destination == \"AGP\"')['origin'].count()\n",
    "count"
   ]
  },
  {
   "attachments": {},
   "cell_type": "markdown",
   "metadata": {},
   "source": [
    "# Ryanair\tBrussel-Zaventem\tPalma\tGemiddelde prijs\tMei\n"
   ]
  },
  {
   "cell_type": "code",
   "execution_count": 74,
   "metadata": {},
   "outputs": [
    {
     "data": {
      "text/plain": [
       "1331.02"
      ]
     },
     "execution_count": 74,
     "metadata": {},
     "output_type": "execute_result"
    }
   ],
   "source": [
    "prijs = ryanair.query('month == \"05\" and origin == \"BRU\" and destination == \"PMI\"')['fareAmount'].sum()\n",
    "prijs"
   ]
  },
  {
   "cell_type": "code",
   "execution_count": 75,
   "metadata": {},
   "outputs": [
    {
     "data": {
      "text/plain": [
       "14"
      ]
     },
     "execution_count": 75,
     "metadata": {},
     "output_type": "execute_result"
    }
   ],
   "source": [
    "count=ryanair.query('month == \"05\" and origin == \"BRU\" and destination == \"PMI\"')['origin'].count()\n",
    "count"
   ]
  },
  {
   "cell_type": "code",
   "execution_count": 76,
   "metadata": {},
   "outputs": [
    {
     "data": {
      "text/plain": [
       "95.07285714285715"
      ]
     },
     "execution_count": 76,
     "metadata": {},
     "output_type": "execute_result"
    }
   ],
   "source": [
    "gemiddelde = prijs/count\n",
    "gemiddelde"
   ]
  },
  {
   "attachments": {},
   "cell_type": "markdown",
   "metadata": {},
   "source": [
    "# Ryanair\tBrussel-Zaventem\tMalaga\tTotaal aantal plaatsen beschikbaar\tJuni\n"
   ]
  },
  {
   "cell_type": "code",
   "execution_count": 77,
   "metadata": {},
   "outputs": [
    {
     "data": {
      "text/plain": [
       "6"
      ]
     },
     "execution_count": 77,
     "metadata": {},
     "output_type": "execute_result"
    }
   ],
   "source": [
    "ryanair.replace(-1,0)\n",
    "plaatsen = ryanair.query('month == \"06\" and origin == \"BRU\" and destination == \"AGP\"')['faresLeft'].sum()\n",
    "plaatsen"
   ]
  },
  {
   "attachments": {},
   "cell_type": "markdown",
   "metadata": {},
   "source": [
    "# Ryanair\tBrussel-Zaventem\tTenerife\tAantal vluchten\t01/09 tot en met 14/09\n"
   ]
  },
  {
   "cell_type": "code",
   "execution_count": 78,
   "metadata": {},
   "outputs": [
    {
     "data": {
      "text/plain": [
       "0"
      ]
     },
     "execution_count": 78,
     "metadata": {},
     "output_type": "execute_result"
    }
   ],
   "source": [
    "ryanair.query('(timeStart >= \"2023-09-01\")and (timeEnd <= \"2023-09-14\") and (origin == \"BRU\") and (destination == \"TFN\")')['origin'].count()"
   ]
  },
  {
   "attachments": {},
   "cell_type": "markdown",
   "metadata": {},
   "source": [
    "# Ryanair\tCharleroi\tAlicante\tAantal vluchten\tJuni\n"
   ]
  },
  {
   "cell_type": "code",
   "execution_count": 79,
   "metadata": {},
   "outputs": [
    {
     "data": {
      "text/plain": [
       "60"
      ]
     },
     "execution_count": 79,
     "metadata": {},
     "output_type": "execute_result"
    }
   ],
   "source": [
    "ryanair.query('(month==\"06\") and (origin == \"CRL\") and (destination == \"ALC\")')['destination'].count()"
   ]
  },
  {
   "attachments": {},
   "cell_type": "markdown",
   "metadata": {},
   "source": [
    "# Ryanair\tCharleroi\tIbiza\tAantal vluchten\t15/08 tot en met 27/08\n"
   ]
  },
  {
   "cell_type": "code",
   "execution_count": 80,
   "metadata": {},
   "outputs": [
    {
     "data": {
      "text/plain": [
       "8"
      ]
     },
     "execution_count": 80,
     "metadata": {},
     "output_type": "execute_result"
    }
   ],
   "source": [
    "ryanair.query('(timeStart >= \"2023-08-15\")and (timeEnd <= \"2023-08-27\")  and (origin == \"CRL\") and (destination == \"IBZ\")')['destination'].count()"
   ]
  },
  {
   "attachments": {},
   "cell_type": "markdown",
   "metadata": {},
   "source": [
    "# Ryanair\tCharleroi\tMalaga\tVertrekuur\t8-apr\n"
   ]
  },
  {
   "cell_type": "code",
   "execution_count": 83,
   "metadata": {},
   "outputs": [
    {
     "data": {
      "text/plain": [
       "78    13:35:00.000\n",
       "Name: depTime, dtype: object"
      ]
     },
     "execution_count": 83,
     "metadata": {},
     "output_type": "execute_result"
    }
   ],
   "source": [
    "ryanair.query('( timeStart == \"2023-04-08\")  and (origin == \"CRL\") and (destination == \"AGP\")')['depTime']"
   ]
  },
  {
   "attachments": {},
   "cell_type": "markdown",
   "metadata": {},
   "source": [
    "# Ryanair\tCharleroi\tPalma\tAankomstuur\t19-apr\n"
   ]
  },
  {
   "cell_type": "code",
   "execution_count": 84,
   "metadata": {},
   "outputs": [
    {
     "data": {
      "text/plain": [
       "196    09:05:00.000\n",
       "Name: arrivalTime, dtype: object"
      ]
     },
     "execution_count": 84,
     "metadata": {},
     "output_type": "execute_result"
    }
   ],
   "source": [
    "ryanair.query('( timeStart == \"2023-04-19\")  and (origin == \"CRL\") and (destination == \"PMI\")')['arrivalTime']"
   ]
  },
  {
   "attachments": {},
   "cell_type": "markdown",
   "metadata": {},
   "source": [
    "# Ryanair\tCharleroi\tTenerife\tGemiddelde prijs\t15-mei\n"
   ]
  },
  {
   "cell_type": "code",
   "execution_count": null,
   "metadata": {},
   "outputs": [
    {
     "data": {
      "text/plain": [
       "nan"
      ]
     },
     "execution_count": 58,
     "metadata": {},
     "output_type": "execute_result"
    }
   ],
   "source": [
    "ryanair.query('( timeStart == \"2023-05-15\")  and (origin == \"CRL\") and (destination == \"TNF\")')['fareAmount'].mean()"
   ]
  },
  {
   "attachments": {},
   "cell_type": "markdown",
   "metadata": {},
   "source": [
    "# Ryanair\tCharleroi\tNapels\tAantal plaatsen beschikbaar\t19-apr\n"
   ]
  },
  {
   "cell_type": "code",
   "execution_count": null,
   "metadata": {},
   "outputs": [
    {
     "data": {
      "text/plain": [
       "2"
      ]
     },
     "execution_count": 59,
     "metadata": {},
     "output_type": "execute_result"
    }
   ],
   "source": [
    "ryanair.query('( timeStart == \"2023-04-19\")  and (origin == \"CRL\") and (destination == \"NAP\")')['faresLeft'].sum()"
   ]
  },
  {
   "attachments": {},
   "cell_type": "markdown",
   "metadata": {},
   "source": [
    "# Ryanair\tCharleroi\tPalermo\tAantal tussenstops\t26-mei\n"
   ]
  },
  {
   "cell_type": "code",
   "execution_count": null,
   "metadata": {},
   "outputs": [
    {
     "data": {
      "text/plain": [
       "580    1\n",
       "Name: segmentAmnt, dtype: int64"
      ]
     },
     "execution_count": 66,
     "metadata": {},
     "output_type": "execute_result"
    }
   ],
   "source": [
    "ryanair.query('( timeStart == \"2023-05-26\")  and (origin == \"CRL\") and (destination == \"PMO\")')['segmentAmnt']"
   ]
  },
  {
   "attachments": {},
   "cell_type": "markdown",
   "metadata": {},
   "source": [
    "# Ryanair\tCharleroi\tBrindisi\tGemiddelde prijs\t15/09 tot en met 30/10"
   ]
  },
  {
   "cell_type": "code",
   "execution_count": null,
   "metadata": {},
   "outputs": [
    {
     "data": {
      "text/plain": [
       "12"
      ]
     },
     "execution_count": 68,
     "metadata": {},
     "output_type": "execute_result"
    }
   ],
   "source": [
    "aantal = ryanair.query('( timeStart >= \"2023-09-15\") and (timeStart <= \"2023-10-30\") and (origin == \"CRL\") and (destination == \"BDS\")')['origin'].count()\n",
    "aantal"
   ]
  },
  {
   "cell_type": "code",
   "execution_count": null,
   "metadata": {},
   "outputs": [
    {
     "data": {
      "text/plain": [
       "979.65"
      ]
     },
     "execution_count": 69,
     "metadata": {},
     "output_type": "execute_result"
    }
   ],
   "source": [
    "prijs = ryanair.query('( timeStart >= \"2023-09-15\") and (timeStart <= \"2023-10-30\") and (origin == \"CRL\") and (destination == \"BDS\")')['fareAmount'].sum()\n",
    "prijs"
   ]
  },
  {
   "cell_type": "code",
   "execution_count": null,
   "metadata": {},
   "outputs": [
    {
     "data": {
      "text/plain": [
       "81.6375"
      ]
     },
     "execution_count": 70,
     "metadata": {},
     "output_type": "execute_result"
    }
   ],
   "source": [
    "gemiddelde = prijs/aantal\n",
    "gemiddelde"
   ]
  }
 ],
 "metadata": {
  "kernelspec": {
   "display_name": "Python 3",
   "language": "python",
   "name": "python3"
  },
  "language_info": {
   "codemirror_mode": {
    "name": "ipython",
    "version": 3
   },
   "file_extension": ".py",
   "mimetype": "text/x-python",
   "name": "python",
   "nbconvert_exporter": "python",
   "pygments_lexer": "ipython3",
   "version": "3.11.2"
  },
  "orig_nbformat": 4
 },
 "nbformat": 4,
 "nbformat_minor": 2
}
